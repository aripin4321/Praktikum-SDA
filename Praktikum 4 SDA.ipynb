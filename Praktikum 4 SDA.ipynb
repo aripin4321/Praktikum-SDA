{
 "cells": [
  {
   "cell_type": "code",
   "execution_count": 3,
   "id": "a8bb5e6e-439a-4f97-9a58-f2149185227a",
   "metadata": {},
   "outputs": [
    {
     "name": "stdout",
     "output_type": "stream",
     "text": [
      "Probabilitas P(X=k) untuk distribusi binomial: 0.1171875\n"
     ]
    }
   ],
   "source": [
    "# Arif Supriyanto - 064102400011\n",
    "import math\n",
    "\n",
    "def n_choose_k(n, k):\n",
    "    return math.factorial(n) / (math.factorial(k) * math.factorial(n - k))\n",
    "\n",
    "def binomial_probability(n, k, p):\n",
    "    return n_choose_k(n, k) * (p ** k) * ((1 - p) ** (n - k))\n",
    "\n",
    "n = 10\n",
    "p = 0.5\n",
    "k = 3\n",
    "\n",
    "prob_binomial = binomial_probability(n, k, p)\n",
    "print(\"Probabilitas P(X=k) untuk distribusi binomial:\", prob_binomial)\n"
   ]
  },
  {
   "cell_type": "code",
   "execution_count": 5,
   "id": "0b7a89d0-0cf8-4b6e-9d5f-01678e5e9f5f",
   "metadata": {},
   "outputs": [
    {
     "name": "stdout",
     "output_type": "stream",
     "text": [
      "Probabilitas P(X=k) untuk distribusi binomial: 0.1171875\n"
     ]
    }
   ],
   "source": [
    "# Arif Supriyanto - 064102400011\n",
    "\n",
    "from scipy.stats import binom\n",
    "n = 10\n",
    "p = 0.5\n",
    "k = 3\n",
    "prob_binomial = binom.pmf(k, n, p)\n",
    "print(\"Probabilitas P(X=k) untuk distribusi binomial:\", prob_binomial)"
   ]
  },
  {
   "cell_type": "code",
   "execution_count": 7,
   "id": "034575b0-7177-44ae-995c-e0c8f092f3fc",
   "metadata": {},
   "outputs": [
    {
     "name": "stdout",
     "output_type": "stream",
     "text": [
      "Probabilitas P(X=k) untuk distribusi Poisson: 0.22404180765538775\n"
     ]
    }
   ],
   "source": [
    "# Arif Supriyanto - 064102400011\n",
    "import math\n",
    "\n",
    "def poisson_probability(lambd, k):\n",
    "    return (lambd ** k) * math.exp(-lambd) / math.factorial(k)\n",
    "\n",
    "lambd = 3\n",
    "k = 2  \n",
    "\n",
    "prob_poisson = poisson_probability(lambd, k)\n",
    "print(\"Probabilitas P(X=k) untuk distribusi Poisson:\", prob_poisson)"
   ]
  },
  {
   "cell_type": "code",
   "execution_count": 9,
   "id": "6c73b512-c54d-4a4d-9aa4-d94b486314c4",
   "metadata": {},
   "outputs": [
    {
     "name": "stdout",
     "output_type": "stream",
     "text": [
      "Probabilitas P(X=k) untuk distribusi Poisson: 0.22404180765538775\n"
     ]
    }
   ],
   "source": [
    "# Arif Supriyanto - 064102400011\n",
    "from scipy.stats import poisson\n",
    "\n",
    "lambd = 3 \n",
    "k = 2  \n",
    "\n",
    "prob_poisson = poisson.pmf(k, lambd)\n",
    "print(\"Probabilitas P(X=k) untuk distribusi Poisson:\", prob_poisson)"
   ]
  },
  {
   "cell_type": "code",
   "execution_count": 11,
   "id": "8dfb7413-37b4-4ad5-b1af-fd8915ba6aae",
   "metadata": {},
   "outputs": [
    {
     "data": {
      "text/plain": [
       "0.1285054390988551"
      ]
     },
     "execution_count": 11,
     "metadata": {},
     "output_type": "execute_result"
    }
   ],
   "source": [
    "import math\n",
    "\n",
    "n = 15 \n",
    "\n",
    "k = 3  \n",
    "p = 0.1 \n",
    "\n",
    "def n_choose_k(n, k):\n",
    "    return math.factorial(n) / (math.factorial(k) * math.factorial(n - k))\n",
    "\n",
    "def binomial_probability(n, k, p):\n",
    "    return n_choose_k(n, k) * (p ** k) * ((1 - p) ** (n - k))\n",
    "\n",
    "prob_3_rusak = binomial_probability(n, k, p)\n",
    "prob_3_rusak\n"
   ]
  },
  {
   "cell_type": "code",
   "execution_count": 13,
   "id": "3344a08c-7353-4121-a721-a69507821464",
   "metadata": {},
   "outputs": [
    {
     "data": {
      "text/plain": [
       "0.8159389308936094"
      ]
     },
     "execution_count": 13,
     "metadata": {},
     "output_type": "execute_result"
    }
   ],
   "source": [
    "prob_0 = binomial_probability(n, 0, p)\n",
    "prob_1 = binomial_probability(n, 1, p)\n",
    "prob_2 = binomial_probability(n, 2, p)\n",
    "\n",
    "prob_leq_2 = prob_0 + prob_1 + prob_2\n",
    "prob_leq_2\n"
   ]
  },
  {
   "cell_type": "code",
   "execution_count": 15,
   "id": "6b7a701a-bd5f-47bc-88f9-a015bc3ca980",
   "metadata": {},
   "outputs": [
    {
     "data": {
      "text/plain": [
       "0.1754673697678507"
      ]
     },
     "execution_count": 15,
     "metadata": {},
     "output_type": "execute_result"
    }
   ],
   "source": [
    "import math\n",
    "\n",
    "lmbda = 5 \n",
    "k = 4       \n",
    "\n",
    "def poisson_probability(lmbda, k):\n",
    "    return (math.exp(-lmbda) * (lmbda ** k)) / math.factorial(k)\n",
    "\n",
    "prob_4_pelanggan = poisson_probability(lmbda, k)\n",
    "prob_4_pelanggan\n"
   ]
  },
  {
   "cell_type": "code",
   "execution_count": 17,
   "id": "a70611ed-1a45-44af-8dcb-934b97d78ee5",
   "metadata": {},
   "outputs": [
    {
     "data": {
      "text/plain": [
       "0.1788630505698797"
      ]
     },
     "execution_count": 17,
     "metadata": {},
     "output_type": "execute_result"
    }
   ],
   "source": [
    "n = 20 \n",
    "k = 15  \n",
    "p = 0.7 \n",
    "\n",
    "prob_15_lulus = binomial_probability(n, k, p)\n",
    "prob_15_lulus\n"
   ]
  },
  {
   "cell_type": "code",
   "execution_count": 19,
   "id": "a5e61b6f-bb44-4fef-8954-de724fc461f3",
   "metadata": {},
   "outputs": [
    {
     "data": {
      "text/plain": [
       "0.1804470443154836"
      ]
     },
     "execution_count": 19,
     "metadata": {},
     "output_type": "execute_result"
    }
   ],
   "source": [
    "lmbda = 2 \n",
    "k = 3       \n",
    "\n",
    "prob_3_rusak = poisson_probability(lmbda, k)\n",
    "prob_3_rusak\n"
   ]
  },
  {
   "cell_type": "code",
   "execution_count": 21,
   "id": "5aae21e5-40f1-405b-8f34-b611cfb88c8a",
   "metadata": {},
   "outputs": [
    {
     "data": {
      "text/plain": [
       "0.20613038097752082"
      ]
     },
     "execution_count": 21,
     "metadata": {},
     "output_type": "execute_result"
    }
   ],
   "source": [
    "# Arif Supriyanto - 064102400011\n",
    "\n",
    "n = 15  \n",
    "k = 5   \n",
    "p = 0.3 \n",
    "\n",
    "prob_5_gagal = binomial_probability(n, k, p)\n",
    "prob_5_gagal\n"
   ]
  },
  {
   "cell_type": "code",
   "execution_count": 23,
   "id": "9e8231bf-aa3e-4cb1-87e6-8248226257ca",
   "metadata": {},
   "outputs": [
    {
     "data": {
      "text/plain": [
       "0.20613038097752082"
      ]
     },
     "execution_count": 23,
     "metadata": {},
     "output_type": "execute_result"
    }
   ],
   "source": [
    "# Diketahui\n",
    "n = 15  # Total perangkat\n",
    "k = 5   # Perangkat yang gagal\n",
    "p = 0.3 # Probabilitas kegagalan\n",
    "\n",
    "# Hitung probabilitas untuk X = 5\n",
    "prob_5_gagal = binomial_probability(n, k, p)\n",
    "prob_5_gagal\n"
   ]
  },
  {
   "cell_type": "code",
   "execution_count": null,
   "id": "4d554b0c-11ad-4429-a0ed-3ca93b02cf9b",
   "metadata": {},
   "outputs": [],
   "source": []
  }
 ],
 "metadata": {
  "kernelspec": {
   "display_name": "Python [conda env:base] *",
   "language": "python",
   "name": "conda-base-py"
  },
  "language_info": {
   "codemirror_mode": {
    "name": "ipython",
    "version": 3
   },
   "file_extension": ".py",
   "mimetype": "text/x-python",
   "name": "python",
   "nbconvert_exporter": "python",
   "pygments_lexer": "ipython3",
   "version": "3.12.7"
  }
 },
 "nbformat": 4,
 "nbformat_minor": 5
}
